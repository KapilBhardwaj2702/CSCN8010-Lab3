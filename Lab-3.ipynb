{
 "cells": [
  {
   "cell_type": "markdown",
   "id": "a34e8e6e",
   "metadata": {},
   "source": [
    "# Lab -3 - CSCN8010\n",
    "\n",
    "# Dogs vs Cats Classification: Fine-Tuning Pretrained Models\n",
    "\n",
    "**Purpose:**  \n",
    "Fine-tune a pre-trained VGG16 model and train a custom CNN on a subset of the Dogs vs Cats dataset. Evaluate and compare their performances.\n",
    "\n",
    "---\n",
    "\n",
    "## 1. Setup and Data Preparation\n",
    "\n",
    "We will download the dataset, extract 5,000 images balanced between cats and dogs, and prepare data loaders.\n"
   ]
  },
  {
   "cell_type": "code",
   "execution_count": 2,
   "id": "7d5ee056",
   "metadata": {},
   "outputs": [
    {
     "name": "stdout",
     "output_type": "stream",
     "text": [
      "TensorFlow version: 2.19.0\n"
     ]
    }
   ],
   "source": [
    "import os\n",
    "import shutil\n",
    "import random\n",
    "import matplotlib.pyplot as plt\n",
    "import numpy as np\n",
    "import pandas as pd\n",
    "from sklearn.metrics import confusion_matrix, classification_report, precision_recall_curve, auc\n",
    "import seaborn as sns\n",
    "\n",
    "import tensorflow as tf\n",
    "from tensorflow.keras.preprocessing.image import ImageDataGenerator\n",
    "from tensorflow.keras.applications import VGG16\n",
    "from tensorflow.keras import layers, models, optimizers, callbacks\n",
    "\n",
    "print(f\"TensorFlow version: {tf.__version__}\")\n"
   ]
  },
  {
   "cell_type": "markdown",
   "id": "64fb1bfd",
   "metadata": {},
   "source": [
    "### Download and Prepare Subset of Dogs vs Cats Dataset\n",
    "\n",
    "**Note:**  \n",
    "- The full dataset has 25,000 images (12,500 cats and 12,500 dogs).  \n",
    "- For this lab, we use only 5,000 images (2,500 cats + 2,500 dogs).  \n",
    "- Organize images into train and validation directories with balanced classes.\n"
   ]
  },
  {
   "cell_type": "code",
   "execution_count": 3,
   "id": "a68caebb",
   "metadata": {},
   "outputs": [
    {
     "name": "stdout",
     "output_type": "stream",
     "text": [
      "[]\n",
      "[]\n"
     ]
    }
   ],
   "source": [
    "import os\n",
    "\n",
    "# List first 10 files in Data/train/cats (example)\n",
    "train_cats_dir = './Data/train/cats'\n",
    "files = os.listdir(train_cats_dir)\n",
    "print(files[:10])  # first 10 cat images\n",
    "\n",
    "# Similarly, for dogs\n",
    "train_dogs_dir = './Data/train/dogs'\n",
    "files = os.listdir(train_dogs_dir)\n",
    "print(files[:10])  # first 10 dog images\n"
   ]
  },
  {
   "cell_type": "markdown",
   "id": "1826c522",
   "metadata": {},
   "source": [
    "## Displaying the total of Images division for Cats and Dogs"
   ]
  },
  {
   "cell_type": "code",
   "execution_count": 4,
   "id": "3cf1db86",
   "metadata": {},
   "outputs": [
    {
     "name": "stdout",
     "output_type": "stream",
     "text": [
      "Train set counts: {'cats': 0, 'dogs': 0}\n"
     ]
    },
    {
     "data": {
      "image/png": "[encoded data removed]",
      "text/plain": [
       "<Figure size 600x400 with 1 Axes>"
      ]
     },
     "metadata": {},
     "output_type": "display_data"
    }
   ],
   "source": [
    "import os\n",
    "import matplotlib.pyplot as plt\n",
    "\n",
    "# Define the train directory path\n",
    "train_dir = './Data/train'\n",
    "\n",
    "# Function to count images in cats and dogs folders\n",
    "def count_images(directory):\n",
    "    counts = {}\n",
    "    for category in ['cats', 'dogs']:\n",
    "        category_dir = os.path.join(directory, category)\n",
    "        counts[category] = len(os.listdir(category_dir))\n",
    "    return counts\n",
    "\n",
    "# Get counts for train folder\n",
    "train_counts = count_images(train_dir)\n",
    "print(\"Train set counts:\", train_counts)\n",
    "\n",
    "# Plot the counts as bar chart\n",
    "categories = list(train_counts.keys())\n",
    "counts = list(train_counts.values())\n",
    "\n",
    "plt.figure(figsize=(6,4))\n",
    "plt.bar(categories, counts, color=['orange', 'skyblue'])\n",
    "plt.title('Number of Images per Category')\n",
    "plt.xlabel('Category')\n",
    "plt.ylabel('Number of Images')\n",
    "plt.show()\n"
   ]
  },
  {
   "cell_type": "markdown",
   "id": "1392ca9f",
   "metadata": {},
   "source": [
    "## 2. Exploratory Data Analysis (EDA)\n",
    "\n",
    "Let's look at some sample images and the distribution of classes. I have changes the resolution of all the images to a common resolution\n"
   ]
  },
  {
   "cell_type": "code",
   "execution_count": 5,
   "id": "80df42d1",
   "metadata": {},
   "outputs": [
    {
     "ename": "ValueError",
     "evalue": "Sample larger than population or is negative",
     "output_type": "error",
     "traceback": [
      "\u001b[31m---------------------------------------------------------------------------\u001b[39m",
      "\u001b[31mValueError\u001b[39m                                Traceback (most recent call last)",
      "\u001b[36mCell\u001b[39m\u001b[36m \u001b[39m\u001b[32mIn[5]\u001b[39m\u001b[32m, line 28\u001b[39m\n\u001b[32m     24\u001b[39m     plt.show()\n\u001b[32m     26\u001b[39m train_dir = \u001b[33m'\u001b[39m\u001b[33m./Data/train\u001b[39m\u001b[33m'\u001b[39m\n\u001b[32m---> \u001b[39m\u001b[32m28\u001b[39m \u001b[43mplot_samples\u001b[49m\u001b[43m(\u001b[49m\u001b[43mtrain_dir\u001b[49m\u001b[43m,\u001b[49m\u001b[43m \u001b[49m\u001b[33;43m'\u001b[39;49m\u001b[33;43mcats\u001b[39;49m\u001b[33;43m'\u001b[39;49m\u001b[43m,\u001b[49m\u001b[43m \u001b[49m\u001b[43mtarget_size\u001b[49m\u001b[43m=\u001b[49m\u001b[43m(\u001b[49m\u001b[32;43m150\u001b[39;49m\u001b[43m,\u001b[49m\u001b[43m \u001b[49m\u001b[32;43m150\u001b[39;49m\u001b[43m)\u001b[49m\u001b[43m,\u001b[49m\u001b[43m \u001b[49m\u001b[43mn_samples\u001b[49m\u001b[43m=\u001b[49m\u001b[32;43m5\u001b[39;49m\u001b[43m)\u001b[49m\n\u001b[32m     29\u001b[39m plot_samples(train_dir, \u001b[33m'\u001b[39m\u001b[33mdogs\u001b[39m\u001b[33m'\u001b[39m, target_size=(\u001b[32m150\u001b[39m, \u001b[32m150\u001b[39m), n_samples=\u001b[32m5\u001b[39m)\n",
      "\u001b[36mCell\u001b[39m\u001b[36m \u001b[39m\u001b[32mIn[5]\u001b[39m\u001b[32m, line 15\u001b[39m, in \u001b[36mplot_samples\u001b[39m\u001b[34m(directory, category, target_size, n_samples)\u001b[39m\n\u001b[32m     13\u001b[39m \u001b[38;5;28;01mdef\u001b[39;00m\u001b[38;5;250m \u001b[39m\u001b[34mplot_samples\u001b[39m(directory, category, target_size=(\u001b[32m150\u001b[39m, \u001b[32m150\u001b[39m), n_samples=\u001b[32m5\u001b[39m):\n\u001b[32m     14\u001b[39m     category_dir = os.path.join(directory, category)\n\u001b[32m---> \u001b[39m\u001b[32m15\u001b[39m     sample_images = \u001b[43mrandom\u001b[49m\u001b[43m.\u001b[49m\u001b[43msample\u001b[49m\u001b[43m(\u001b[49m\u001b[43mos\u001b[49m\u001b[43m.\u001b[49m\u001b[43mlistdir\u001b[49m\u001b[43m(\u001b[49m\u001b[43mcategory_dir\u001b[49m\u001b[43m)\u001b[49m\u001b[43m,\u001b[49m\u001b[43m \u001b[49m\u001b[43mn_samples\u001b[49m\u001b[43m)\u001b[49m\n\u001b[32m     16\u001b[39m     plt.figure(figsize=(\u001b[32m15\u001b[39m, \u001b[32m3\u001b[39m))\n\u001b[32m     17\u001b[39m     \u001b[38;5;28;01mfor\u001b[39;00m i, img_name \u001b[38;5;129;01min\u001b[39;00m \u001b[38;5;28menumerate\u001b[39m(sample_images):\n",
      "\u001b[36mFile \u001b[39m\u001b[32mc:\\Python312\\Lib\\random.py:430\u001b[39m, in \u001b[36mRandom.sample\u001b[39m\u001b[34m(self, population, k, counts)\u001b[39m\n\u001b[32m    428\u001b[39m randbelow = \u001b[38;5;28mself\u001b[39m._randbelow\n\u001b[32m    429\u001b[39m \u001b[38;5;28;01mif\u001b[39;00m \u001b[38;5;129;01mnot\u001b[39;00m \u001b[32m0\u001b[39m <= k <= n:\n\u001b[32m--> \u001b[39m\u001b[32m430\u001b[39m     \u001b[38;5;28;01mraise\u001b[39;00m \u001b[38;5;167;01mValueError\u001b[39;00m(\u001b[33m\"\u001b[39m\u001b[33mSample larger than population or is negative\u001b[39m\u001b[33m\"\u001b[39m)\n\u001b[32m    431\u001b[39m result = [\u001b[38;5;28;01mNone\u001b[39;00m] * k\n\u001b[32m    432\u001b[39m setsize = \u001b[32m21\u001b[39m        \u001b[38;5;66;03m# size of a small set minus size of an empty list\u001b[39;00m\n",
      "\u001b[31mValueError\u001b[39m: Sample larger than population or is negative"
     ]
    }
   ],
   "source": [
    "import os\n",
    "import random\n",
    "import matplotlib.pyplot as plt\n",
    "import numpy as np\n",
    "from PIL import Image\n",
    "\n",
    "def resize_image(img_path, target_size=(150, 150)):\n",
    "    img = Image.open(img_path)\n",
    "    if img.size != target_size[::-1]:  # PIL size is (width, height)\n",
    "        img = img.resize(target_size)\n",
    "    return np.array(img)\n",
    "\n",
    "def plot_samples(directory, category, target_size=(150, 150), n_samples=5):\n",
    "    category_dir = os.path.join(directory, category)\n",
    "    sample_images = random.sample(os.listdir(category_dir), n_samples)\n",
    "    plt.figure(figsize=(15, 3))\n",
    "    for i, img_name in enumerate(sample_images):\n",
    "        img_path = os.path.join(category_dir, img_name)\n",
    "        img = resize_image(img_path, target_size)\n",
    "        plt.subplot(1, n_samples, i + 1)\n",
    "        plt.imshow(img)\n",
    "        plt.title(category.capitalize())\n",
    "        plt.axis('off')\n",
    "    plt.show()\n",
    "\n",
    "train_dir = './Data/train'\n",
    "\n",
    "plot_samples(train_dir, 'cats', target_size=(150, 150), n_samples=5)\n",
    "plot_samples(train_dir, 'dogs', target_size=(150, 150), n_samples=5)\n"
   ]
  },
  {
   "cell_type": "code",
   "execution_count": null,
   "id": "06c52253",
   "metadata": {},
   "outputs": [
    {
     "name": "stdout",
     "output_type": "stream",
     "text": [
      "Train set counts: {'cats': 2000, 'dogs': 2000}\n",
      "Validation set counts: {'cats': 500, 'dogs': 500}\n"
     ]
    }
   ],
   "source": [
    "# Check counts per category for train and validation sets\n",
    "def count_images(directory):\n",
    "    counts = {}\n",
    "    for category in ['cats', 'dogs']:\n",
    "        category_dir = os.path.join(directory, category)\n",
    "        counts[category] = len(os.listdir(category_dir))\n",
    "    return counts\n",
    "\n",
    "print(\"Train set counts:\", count_images(train_dir))\n",
    "validation_dir = './Data/validation'  \n",
    "\n",
    "print(\"Validation set counts:\", count_images(validation_dir))\n"
   ]
  },
  {
   "cell_type": "markdown",
   "id": "5f9fd174",
   "metadata": {},
   "source": [
    "## 3. Data Generators with Augmentation\n",
    "\n",
    "We use `ImageDataGenerator` for training (with augmentation) and validation (only rescaling).\n"
   ]
  },
  {
   "cell_type": "code",
   "execution_count": null,
   "id": "38764639",
   "metadata": {},
   "outputs": [
    {
     "name": "stdout",
     "output_type": "stream",
     "text": [
      "Found 4000 images belonging to 2 classes.\n",
      "Found 1000 images belonging to 2 classes.\n"
     ]
    }
   ],
   "source": [
    "batch_size = 32\n",
    "image_size = (150, 150)\n",
    "\n",
    "train_datagen = ImageDataGenerator(\n",
    "    rescale=1./255,\n",
    "    rotation_range=30,\n",
    "    width_shift_range=0.1,\n",
    "    height_shift_range=0.1,\n",
    "    shear_range=0.2,\n",
    "    zoom_range=0.2,\n",
    "    horizontal_flip=True,\n",
    "    fill_mode='nearest')\n",
    "\n",
    "val_datagen = ImageDataGenerator(rescale=1./255)\n",
    "\n",
    "train_generator = train_datagen.flow_from_directory(\n",
    "    train_dir,\n",
    "    target_size=image_size,\n",
    "    batch_size=batch_size,\n",
    "    class_mode='binary')\n",
    "\n",
    "validation_generator = val_datagen.flow_from_directory(\n",
    "    validation_dir,\n",
    "    target_size=image_size,\n",
    "    batch_size=batch_size,\n",
    "    class_mode='binary',\n",
    "    shuffle=False)  # shuffle=False for consistent evaluation\n"
   ]
  },
  {
   "cell_type": "markdown",
   "id": "930a64e9",
   "metadata": {},
   "source": [
    "## 4. Define and Train a Custom CNN Model\n"
   ]
  },
  {
   "cell_type": "code",
   "execution_count": null,
   "id": "36c0b909",
   "metadata": {},
   "outputs": [
    {
     "name": "stderr",
     "output_type": "stream",
     "text": [
      "C:\\Users\\acer\\AppData\\Roaming\\Python\\Python312\\site-packages\\keras\\src\\layers\\convolutional\\base_conv.py:113: UserWarning: Do not pass an `input_shape`/`input_dim` argument to a layer. When using Sequential models, prefer using an `Input(shape)` object as the first layer in the model instead.\n",
      "  super().__init__(activity_regularizer=activity_regularizer, **kwargs)\n"
     ]
    },
    {
     "data": {
      "text/html": [
       "<pre style=\"white-space:pre;overflow-x:auto;line-height:normal;font-family:Menlo,'DejaVu Sans Mono',consolas,'Courier New',monospace\"><span style=\"font-weight: bold\">Model: \"sequential\"</span>\n",
       "</pre>\n"
      ],
      "text/plain": [
       "\u001b[1mModel: \"sequential\"\u001b[0m\n"
      ]
     },
     "metadata": {},
     "output_type": "display_data"
    },
    {
     "data": {
      "text/html": [
       "<pre style=\"white-space:pre;overflow-x:auto;line-height:normal;font-family:Menlo,'DejaVu Sans Mono',consolas,'Courier New',monospace\">┏━━━━━━━━━━━━━━━━━━━━━━━━━━━━━━━━━┳━━━━━━━━━━━━━━━━━━━━━━━━┳━━━━━━━━━━━━━━━┓\n",
       "┃<span style=\"font-weight: bold\"> Layer (type)                    </span>┃<span style=\"font-weight: bold\"> Output Shape           </span>┃<span style=\"font-weight: bold\">       Param # </span>┃\n",
       "┡━━━━━━━━━━━━━━━━━━━━━━━━━━━━━━━━━╇━━━━━━━━━━━━━━━━━━━━━━━━╇━━━━━━━━━━━━━━━┩\n",
       "│ conv2d (<span style=\"color: #0087ff; text-decoration-color: #0087ff\">Conv2D</span>)                 │ (<span style=\"color: #00d7ff; text-decoration-color: #00d7ff\">None</span>, <span style=\"color: #00af00; text-decoration-color: #00af00\">148</span>, <span style=\"color: #00af00; text-decoration-color: #00af00\">148</span>, <span style=\"color: #00af00; text-decoration-color: #00af00\">32</span>)   │           <span style=\"color: #00af00; text-decoration-color: #00af00\">896</span> │\n",
       "├─────────────────────────────────┼────────────────────────┼───────────────┤\n",
       "│ max_pooling2d (<span style=\"color: #0087ff; text-decoration-color: #0087ff\">MaxPooling2D</span>)    │ (<span style=\"color: #00d7ff; text-decoration-color: #00d7ff\">None</span>, <span style=\"color: #00af00; text-decoration-color: #00af00\">74</span>, <span style=\"color: #00af00; text-decoration-color: #00af00\">74</span>, <span style=\"color: #00af00; text-decoration-color: #00af00\">32</span>)     │             <span style=\"color: #00af00; text-decoration-color: #00af00\">0</span> │\n",
       "├─────────────────────────────────┼────────────────────────┼───────────────┤\n",
       "│ conv2d_1 (<span style=\"color: #0087ff; text-decoration-color: #0087ff\">Conv2D</span>)               │ (<span style=\"color: #00d7ff; text-decoration-color: #00d7ff\">None</span>, <span style=\"color: #00af00; text-decoration-color: #00af00\">72</span>, <span style=\"color: #00af00; text-decoration-color: #00af00\">72</span>, <span style=\"color: #00af00; text-decoration-color: #00af00\">64</span>)     │        <span style=\"color: #00af00; text-decoration-color: #00af00\">18,496</span> │\n",
       "├─────────────────────────────────┼────────────────────────┼───────────────┤\n",
       "│ max_pooling2d_1 (<span style=\"color: #0087ff; text-decoration-color: #0087ff\">MaxPooling2D</span>)  │ (<span style=\"color: #00d7ff; text-decoration-color: #00d7ff\">None</span>, <span style=\"color: #00af00; text-decoration-color: #00af00\">36</span>, <span style=\"color: #00af00; text-decoration-color: #00af00\">36</span>, <span style=\"color: #00af00; text-decoration-color: #00af00\">64</span>)     │             <span style=\"color: #00af00; text-decoration-color: #00af00\">0</span> │\n",
       "├─────────────────────────────────┼────────────────────────┼───────────────┤\n",
       "│ conv2d_2 (<span style=\"color: #0087ff; text-decoration-color: #0087ff\">Conv2D</span>)               │ (<span style=\"color: #00d7ff; text-decoration-color: #00d7ff\">None</span>, <span style=\"color: #00af00; text-decoration-color: #00af00\">34</span>, <span style=\"color: #00af00; text-decoration-color: #00af00\">34</span>, <span style=\"color: #00af00; text-decoration-color: #00af00\">128</span>)    │        <span style=\"color: #00af00; text-decoration-color: #00af00\">73,856</span> │\n",
       "├─────────────────────────────────┼────────────────────────┼───────────────┤\n",
       "│ max_pooling2d_2 (<span style=\"color: #0087ff; text-decoration-color: #0087ff\">MaxPooling2D</span>)  │ (<span style=\"color: #00d7ff; text-decoration-color: #00d7ff\">None</span>, <span style=\"color: #00af00; text-decoration-color: #00af00\">17</span>, <span style=\"color: #00af00; text-decoration-color: #00af00\">17</span>, <span style=\"color: #00af00; text-decoration-color: #00af00\">128</span>)    │             <span style=\"color: #00af00; text-decoration-color: #00af00\">0</span> │\n",
       "├─────────────────────────────────┼────────────────────────┼───────────────┤\n",
       "│ flatten (<span style=\"color: #0087ff; text-decoration-color: #0087ff\">Flatten</span>)               │ (<span style=\"color: #00d7ff; text-decoration-color: #00d7ff\">None</span>, <span style=\"color: #00af00; text-decoration-color: #00af00\">36992</span>)          │             <span style=\"color: #00af00; text-decoration-color: #00af00\">0</span> │\n",
       "├─────────────────────────────────┼────────────────────────┼───────────────┤\n",
       "│ dense (<span style=\"color: #0087ff; text-decoration-color: #0087ff\">Dense</span>)                   │ (<span style=\"color: #00d7ff; text-decoration-color: #00d7ff\">None</span>, <span style=\"color: #00af00; text-decoration-color: #00af00\">512</span>)            │    <span style=\"color: #00af00; text-decoration-color: #00af00\">18,940,416</span> │\n",
       "├─────────────────────────────────┼────────────────────────┼───────────────┤\n",
       "│ dropout (<span style=\"color: #0087ff; text-decoration-color: #0087ff\">Dropout</span>)               │ (<span style=\"color: #00d7ff; text-decoration-color: #00d7ff\">None</span>, <span style=\"color: #00af00; text-decoration-color: #00af00\">512</span>)            │             <span style=\"color: #00af00; text-decoration-color: #00af00\">0</span> │\n",
       "├─────────────────────────────────┼────────────────────────┼───────────────┤\n",
       "│ dense_1 (<span style=\"color: #0087ff; text-decoration-color: #0087ff\">Dense</span>)                 │ (<span style=\"color: #00d7ff; text-decoration-color: #00d7ff\">None</span>, <span style=\"color: #00af00; text-decoration-color: #00af00\">1</span>)              │           <span style=\"color: #00af00; text-decoration-color: #00af00\">513</span> │\n",
       "└─────────────────────────────────┴────────────────────────┴───────────────┘\n",
       "</pre>\n"
      ],
      "text/plain": [
       "┏━━━━━━━━━━━━━━━━━━━━━━━━━━━━━━━━━┳━━━━━━━━━━━━━━━━━━━━━━━━┳━━━━━━━━━━━━━━━┓\n",
       "┃\u001b[1m \u001b[0m\u001b[1mLayer (type)                   \u001b[0m\u001b[1m \u001b[0m┃\u001b[1m \u001b[0m\u001b[1mOutput Shape          \u001b[0m\u001b[1m \u001b[0m┃\u001b[1m \u001b[0m\u001b[1m      Param #\u001b[0m\u001b[1m \u001b[0m┃\n",
       "┡━━━━━━━━━━━━━━━━━━━━━━━━━━━━━━━━━╇━━━━━━━━━━━━━━━━━━━━━━━━╇━━━━━━━━━━━━━━━┩\n",
       "│ conv2d (\u001b[38;5;33mConv2D\u001b[0m)                 │ (\u001b[38;5;45mNone\u001b[0m, \u001b[38;5;34m148\u001b[0m, \u001b[38;5;34m148\u001b[0m, \u001b[38;5;34m32\u001b[0m)   │           \u001b[38;5;34m896\u001b[0m │\n",
       "├─────────────────────────────────┼────────────────────────┼───────────────┤\n",
       "│ max_pooling2d (\u001b[38;5;33mMaxPooling2D\u001b[0m)    │ (\u001b[38;5;45mNone\u001b[0m, \u001b[38;5;34m74\u001b[0m, \u001b[38;5;34m74\u001b[0m, \u001b[38;5;34m32\u001b[0m)     │             \u001b[38;5;34m0\u001b[0m │\n",
       "├─────────────────────────────────┼────────────────────────┼───────────────┤\n",
       "│ conv2d_1 (\u001b[38;5;33mConv2D\u001b[0m)               │ (\u001b[38;5;45mNone\u001b[0m, \u001b[38;5;34m72\u001b[0m, \u001b[38;5;34m72\u001b[0m, \u001b[38;5;34m64\u001b[0m)     │        \u001b[38;5;34m18,496\u001b[0m │\n",
       "├─────────────────────────────────┼────────────────────────┼───────────────┤\n",
       "│ max_pooling2d_1 (\u001b[38;5;33mMaxPooling2D\u001b[0m)  │ (\u001b[38;5;45mNone\u001b[0m, \u001b[38;5;34m36\u001b[0m, \u001b[38;5;34m36\u001b[0m, \u001b[38;5;34m64\u001b[0m)     │             \u001b[38;5;34m0\u001b[0m │\n",
       "├─────────────────────────────────┼────────────────────────┼───────────────┤\n",
       "│ conv2d_2 (\u001b[38;5;33mConv2D\u001b[0m)               │ (\u001b[38;5;45mNone\u001b[0m, \u001b[38;5;34m34\u001b[0m, \u001b[38;5;34m34\u001b[0m, \u001b[38;5;34m128\u001b[0m)    │        \u001b[38;5;34m73,856\u001b[0m │\n",
       "├─────────────────────────────────┼────────────────────────┼───────────────┤\n",
       "│ max_pooling2d_2 (\u001b[38;5;33mMaxPooling2D\u001b[0m)  │ (\u001b[38;5;45mNone\u001b[0m, \u001b[38;5;34m17\u001b[0m, \u001b[38;5;34m17\u001b[0m, \u001b[38;5;34m128\u001b[0m)    │             \u001b[38;5;34m0\u001b[0m │\n",
       "├─────────────────────────────────┼────────────────────────┼───────────────┤\n",
       "│ flatten (\u001b[38;5;33mFlatten\u001b[0m)               │ (\u001b[38;5;45mNone\u001b[0m, \u001b[38;5;34m36992\u001b[0m)          │             \u001b[38;5;34m0\u001b[0m │\n",
       "├─────────────────────────────────┼────────────────────────┼───────────────┤\n",
       "│ dense (\u001b[38;5;33mDense\u001b[0m)                   │ (\u001b[38;5;45mNone\u001b[0m, \u001b[38;5;34m512\u001b[0m)            │    \u001b[38;5;34m18,940,416\u001b[0m │\n",
       "├─────────────────────────────────┼────────────────────────┼───────────────┤\n",
       "│ dropout (\u001b[38;5;33mDropout\u001b[0m)               │ (\u001b[38;5;45mNone\u001b[0m, \u001b[38;5;34m512\u001b[0m)            │             \u001b[38;5;34m0\u001b[0m │\n",
       "├─────────────────────────────────┼────────────────────────┼───────────────┤\n",
       "│ dense_1 (\u001b[38;5;33mDense\u001b[0m)                 │ (\u001b[38;5;45mNone\u001b[0m, \u001b[38;5;34m1\u001b[0m)              │           \u001b[38;5;34m513\u001b[0m │\n",
       "└─────────────────────────────────┴────────────────────────┴───────────────┘\n"
      ]
     },
     "metadata": {},
     "output_type": "display_data"
    },
    {
     "data": {
      "text/html": [
       "<pre style=\"white-space:pre;overflow-x:auto;line-height:normal;font-family:Menlo,'DejaVu Sans Mono',consolas,'Courier New',monospace\"><span style=\"font-weight: bold\"> Total params: </span><span style=\"color: #00af00; text-decoration-color: #00af00\">19,034,177</span> (72.61 MB)\n",
       "</pre>\n"
      ],
      "text/plain": [
       "\u001b[1m Total params: \u001b[0m\u001b[38;5;34m19,034,177\u001b[0m (72.61 MB)\n"
      ]
     },
     "metadata": {},
     "output_type": "display_data"
    },
    {
     "data": {
      "text/html": [
       "<pre style=\"white-space:pre;overflow-x:auto;line-height:normal;font-family:Menlo,'DejaVu Sans Mono',consolas,'Courier New',monospace\"><span style=\"font-weight: bold\"> Trainable params: </span><span style=\"color: #00af00; text-decoration-color: #00af00\">19,034,177</span> (72.61 MB)\n",
       "</pre>\n"
      ],
      "text/plain": [
       "\u001b[1m Trainable params: \u001b[0m\u001b[38;5;34m19,034,177\u001b[0m (72.61 MB)\n"
      ]
     },
     "metadata": {},
     "output_type": "display_data"
    },
    {
     "data": {
      "text/html": [
       "<pre style=\"white-space:pre;overflow-x:auto;line-height:normal;font-family:Menlo,'DejaVu Sans Mono',consolas,'Courier New',monospace\"><span style=\"font-weight: bold\"> Non-trainable params: </span><span style=\"color: #00af00; text-decoration-color: #00af00\">0</span> (0.00 B)\n",
       "</pre>\n"
      ],
      "text/plain": [
       "\u001b[1m Non-trainable params: \u001b[0m\u001b[38;5;34m0\u001b[0m (0.00 B)\n"
      ]
     },
     "metadata": {},
     "output_type": "display_data"
    }
   ],
   "source": [
    "# Define simple CNN architecture\n",
    "def create_custom_cnn():\n",
    "    model = models.Sequential([\n",
    "        layers.Conv2D(32, (3,3), activation='relu', input_shape=(150,150,3)),\n",
    "        layers.MaxPooling2D(2,2),\n",
    "        layers.Conv2D(64, (3,3), activation='relu'),\n",
    "        layers.MaxPooling2D(2,2),\n",
    "        layers.Conv2D(128, (3,3), activation='relu'),\n",
    "        layers.MaxPooling2D(2,2),\n",
    "        layers.Flatten(),\n",
    "        layers.Dense(512, activation='relu'),\n",
    "        layers.Dropout(0.5),\n",
    "        layers.Dense(1, activation='sigmoid')\n",
    "    ])\n",
    "    model.compile(optimizer='adam',\n",
    "                  loss='binary_crossentropy',\n",
    "                  metrics=['accuracy'])\n",
    "    return model\n",
    "\n",
    "custom_cnn = create_custom_cnn()\n",
    "custom_cnn.summary()\n"
   ]
  },
  {
   "cell_type": "markdown",
   "id": "e94b771c",
   "metadata": {},
   "source": [
    "### Train Custom CNN with EarlyStopping and ModelCheckpoint\n"
   ]
  },
  {
   "cell_type": "code",
   "execution_count": null,
   "id": "9d0e4446",
   "metadata": {},
   "outputs": [
    {
     "name": "stderr",
     "output_type": "stream",
     "text": [
      "C:\\Users\\acer\\AppData\\Roaming\\Python\\Python312\\site-packages\\keras\\src\\trainers\\data_adapters\\py_dataset_adapter.py:121: UserWarning: Your `PyDataset` class should call `super().__init__(**kwargs)` in its constructor. `**kwargs` can include `workers`, `use_multiprocessing`, `max_queue_size`. Do not pass these arguments to `fit()`, as they will be ignored.\n",
      "  self._warn_if_super_not_called()\n"
     ]
    },
    {
     "name": "stdout",
     "output_type": "stream",
     "text": [
      "Epoch 1/20\n",
      "\n",
      "Epoch 1: val_accuracy improved from -inf to 0.00000, saving model to fast_custom_cnn.h5\n"
     ]
    },
    {
     "name": "stderr",
     "output_type": "stream",
     "text": [
      "WARNING:absl:You are saving your model as an HDF5 file via `model.save()` or `keras.saving.save_model(model)`. This file format is considered legacy. We recommend using instead the native Keras format, e.g. `model.save('my_model.keras')` or `keras.saving.save_model(model, 'my_model.keras')`. \n"
     ]
    },
    {
     "name": "stdout",
     "output_type": "stream",
     "text": [
      "30/30 - 77s - 3s/step - accuracy: 0.5104 - loss: 0.8158 - val_accuracy: 0.0000e+00 - val_loss: 0.8328\n",
      "Epoch 2/20\n",
      "\n",
      "Epoch 2: val_accuracy improved from 0.00000 to 0.74375, saving model to fast_custom_cnn.h5\n"
     ]
    },
    {
     "name": "stderr",
     "output_type": "stream",
     "text": [
      "WARNING:absl:You are saving your model as an HDF5 file via `model.save()` or `keras.saving.save_model(model)`. This file format is considered legacy. We recommend using instead the native Keras format, e.g. `model.save('my_model.keras')` or `keras.saving.save_model(model, 'my_model.keras')`. \n"
     ]
    },
    {
     "name": "stdout",
     "output_type": "stream",
     "text": [
      "30/30 - 63s - 2s/step - accuracy: 0.5792 - loss: 0.6763 - val_accuracy: 0.7437 - val_loss: 0.6606\n",
      "Epoch 3/20\n",
      "\n",
      "Epoch 3: val_accuracy did not improve from 0.74375\n",
      "30/30 - 53s - 2s/step - accuracy: 0.5615 - loss: 0.6815 - val_accuracy: 0.4531 - val_loss: 0.8299\n",
      "Epoch 4/20\n",
      "\n",
      "Epoch 4: val_accuracy did not improve from 0.74375\n",
      "30/30 - 69s - 2s/step - accuracy: 0.5802 - loss: 0.6717 - val_accuracy: 0.7437 - val_loss: 0.6616\n",
      "Epoch 5/20\n"
     ]
    },
    {
     "name": "stderr",
     "output_type": "stream",
     "text": [
      "C:\\Users\\acer\\AppData\\Roaming\\Python\\Python312\\site-packages\\keras\\src\\trainers\\epoch_iterator.py:116: UserWarning: Your input ran out of data; interrupting training. Make sure that your dataset or generator can generate at least `steps_per_epoch * epochs` batches. You may need to use the `.repeat()` function when building your dataset.\n",
      "  self._interrupted_warning()\n"
     ]
    },
    {
     "name": "stdout",
     "output_type": "stream",
     "text": [
      "\n",
      "Epoch 5: val_accuracy did not improve from 0.74375\n",
      "30/30 - 10s - 349ms/step - accuracy: 0.5625 - loss: 0.6694 - val_accuracy: 0.5594 - val_loss: 0.7180\n",
      "Epoch 6/20\n",
      "\n",
      "Epoch 6: val_accuracy did not improve from 0.74375\n",
      "30/30 - 60s - 2s/step - accuracy: 0.5969 - loss: 0.6625 - val_accuracy: 0.3250 - val_loss: 0.7894\n",
      "Epoch 7/20\n",
      "\n",
      "Epoch 7: val_accuracy did not improve from 0.74375\n",
      "30/30 - 54s - 2s/step - accuracy: 0.6229 - loss: 0.6464 - val_accuracy: 0.7094 - val_loss: 0.6392\n",
      "Epoch 7: early stopping\n",
      "Restoring model weights from the end of the best epoch: 2.\n"
     ]
    }
   ],
   "source": [
    "# Save best model only\n",
    "checkpoint_path_cnn = 'fast_custom_cnn.h5'\n",
    "checkpoint_cnn = callbacks.ModelCheckpoint(\n",
    "    filepath=checkpoint_path_cnn,\n",
    "    monitor='val_accuracy',\n",
    "    save_best_only=True,\n",
    "    verbose=1\n",
    ")\n",
    "\n",
    "# Early stop earlier (after 2 epochs of no improvement)\n",
    "earlystop_cnn = callbacks.EarlyStopping(\n",
    "    monitor='val_accuracy',\n",
    "    patience=5,\n",
    "    restore_best_weights=True,\n",
    "    verbose=1\n",
    ")\n",
    "\n",
    "history_cnn = custom_cnn.fit(\n",
    "    train_generator,\n",
    "    epochs=20, \n",
    "    validation_data=validation_generator,\n",
    "    callbacks=[checkpoint_cnn, earlystop_cnn],\n",
    "    steps_per_epoch=30,               # Optional: lower if you have many batches\n",
    "    validation_steps=10,              # Optional: reduce validation computation\n",
    "    verbose=2\n",
    ")\n"
   ]
  },
  {
   "cell_type": "markdown",
   "id": "b22fad33",
   "metadata": {},
   "source": [
    "## 5. Fine-Tune Pretrained VGG16 Model\n"
   ]
  },
  {
   "cell_type": "code",
   "execution_count": null,
   "id": "68cbff34",
   "metadata": {},
   "outputs": [
    {
     "data": {
      "text/html": [
       "<pre style=\"white-space:pre;overflow-x:auto;line-height:normal;font-family:Menlo,'DejaVu Sans Mono',consolas,'Courier New',monospace\"><span style=\"font-weight: bold\">Model: \"sequential_1\"</span>\n",
       "</pre>\n"
      ],
      "text/plain": [
       "\u001b[1mModel: \"sequential_1\"\u001b[0m\n"
      ]
     },
     "metadata": {},
     "output_type": "display_data"
    },
    {
     "data": {
      "text/html": [
       "<pre style=\"white-space:pre;overflow-x:auto;line-height:normal;font-family:Menlo,'DejaVu Sans Mono',consolas,'Courier New',monospace\">┏━━━━━━━━━━━━━━━━━━━━━━━━━━━━━━━━━┳━━━━━━━━━━━━━━━━━━━━━━━━┳━━━━━━━━━━━━━━━┓\n",
       "┃<span style=\"font-weight: bold\"> Layer (type)                    </span>┃<span style=\"font-weight: bold\"> Output Shape           </span>┃<span style=\"font-weight: bold\">       Param # </span>┃\n",
       "┡━━━━━━━━━━━━━━━━━━━━━━━━━━━━━━━━━╇━━━━━━━━━━━━━━━━━━━━━━━━╇━━━━━━━━━━━━━━━┩\n",
       "│ vgg16 (<span style=\"color: #0087ff; text-decoration-color: #0087ff\">Functional</span>)              │ (<span style=\"color: #00d7ff; text-decoration-color: #00d7ff\">None</span>, <span style=\"color: #00af00; text-decoration-color: #00af00\">4</span>, <span style=\"color: #00af00; text-decoration-color: #00af00\">4</span>, <span style=\"color: #00af00; text-decoration-color: #00af00\">512</span>)      │    <span style=\"color: #00af00; text-decoration-color: #00af00\">14,714,688</span> │\n",
       "├─────────────────────────────────┼────────────────────────┼───────────────┤\n",
       "│ flatten_1 (<span style=\"color: #0087ff; text-decoration-color: #0087ff\">Flatten</span>)             │ (<span style=\"color: #00d7ff; text-decoration-color: #00d7ff\">None</span>, <span style=\"color: #00af00; text-decoration-color: #00af00\">8192</span>)           │             <span style=\"color: #00af00; text-decoration-color: #00af00\">0</span> │\n",
       "├─────────────────────────────────┼────────────────────────┼───────────────┤\n",
       "│ dense_2 (<span style=\"color: #0087ff; text-decoration-color: #0087ff\">Dense</span>)                 │ (<span style=\"color: #00d7ff; text-decoration-color: #00d7ff\">None</span>, <span style=\"color: #00af00; text-decoration-color: #00af00\">256</span>)            │     <span style=\"color: #00af00; text-decoration-color: #00af00\">2,097,408</span> │\n",
       "├─────────────────────────────────┼────────────────────────┼───────────────┤\n",
       "│ dropout_1 (<span style=\"color: #0087ff; text-decoration-color: #0087ff\">Dropout</span>)             │ (<span style=\"color: #00d7ff; text-decoration-color: #00d7ff\">None</span>, <span style=\"color: #00af00; text-decoration-color: #00af00\">256</span>)            │             <span style=\"color: #00af00; text-decoration-color: #00af00\">0</span> │\n",
       "├─────────────────────────────────┼────────────────────────┼───────────────┤\n",
       "│ dense_3 (<span style=\"color: #0087ff; text-decoration-color: #0087ff\">Dense</span>)                 │ (<span style=\"color: #00d7ff; text-decoration-color: #00d7ff\">None</span>, <span style=\"color: #00af00; text-decoration-color: #00af00\">1</span>)              │           <span style=\"color: #00af00; text-decoration-color: #00af00\">257</span> │\n",
       "└─────────────────────────────────┴────────────────────────┴───────────────┘\n",
       "</pre>\n"
      ],
      "text/plain": [
       "┏━━━━━━━━━━━━━━━━━━━━━━━━━━━━━━━━━┳━━━━━━━━━━━━━━━━━━━━━━━━┳━━━━━━━━━━━━━━━┓\n",
       "┃\u001b[1m \u001b[0m\u001b[1mLayer (type)                   \u001b[0m\u001b[1m \u001b[0m┃\u001b[1m \u001b[0m\u001b[1mOutput Shape          \u001b[0m\u001b[1m \u001b[0m┃\u001b[1m \u001b[0m\u001b[1m      Param #\u001b[0m\u001b[1m \u001b[0m┃\n",
       "┡━━━━━━━━━━━━━━━━━━━━━━━━━━━━━━━━━╇━━━━━━━━━━━━━━━━━━━━━━━━╇━━━━━━━━━━━━━━━┩\n",
       "│ vgg16 (\u001b[38;5;33mFunctional\u001b[0m)              │ (\u001b[38;5;45mNone\u001b[0m, \u001b[38;5;34m4\u001b[0m, \u001b[38;5;34m4\u001b[0m, \u001b[38;5;34m512\u001b[0m)      │    \u001b[38;5;34m14,714,688\u001b[0m │\n",
       "├─────────────────────────────────┼────────────────────────┼───────────────┤\n",
       "│ flatten_1 (\u001b[38;5;33mFlatten\u001b[0m)             │ (\u001b[38;5;45mNone\u001b[0m, \u001b[38;5;34m8192\u001b[0m)           │             \u001b[38;5;34m0\u001b[0m │\n",
       "├─────────────────────────────────┼────────────────────────┼───────────────┤\n",
       "│ dense_2 (\u001b[38;5;33mDense\u001b[0m)                 │ (\u001b[38;5;45mNone\u001b[0m, \u001b[38;5;34m256\u001b[0m)            │     \u001b[38;5;34m2,097,408\u001b[0m │\n",
       "├─────────────────────────────────┼────────────────────────┼───────────────┤\n",
       "│ dropout_1 (\u001b[38;5;33mDropout\u001b[0m)             │ (\u001b[38;5;45mNone\u001b[0m, \u001b[38;5;34m256\u001b[0m)            │             \u001b[38;5;34m0\u001b[0m │\n",
       "├─────────────────────────────────┼────────────────────────┼───────────────┤\n",
       "│ dense_3 (\u001b[38;5;33mDense\u001b[0m)                 │ (\u001b[38;5;45mNone\u001b[0m, \u001b[38;5;34m1\u001b[0m)              │           \u001b[38;5;34m257\u001b[0m │\n",
       "└─────────────────────────────────┴────────────────────────┴───────────────┘\n"
      ]
     },
     "metadata": {},
     "output_type": "display_data"
    },
    {
     "data": {
      "text/html": [
       "<pre style=\"white-space:pre;overflow-x:auto;line-height:normal;font-family:Menlo,'DejaVu Sans Mono',consolas,'Courier New',monospace\"><span style=\"font-weight: bold\"> Total params: </span><span style=\"color: #00af00; text-decoration-color: #00af00\">16,812,353</span> (64.13 MB)\n",
       "</pre>\n"
      ],
      "text/plain": [
       "\u001b[1m Total params: \u001b[0m\u001b[38;5;34m16,812,353\u001b[0m (64.13 MB)\n"
      ]
     },
     "metadata": {},
     "output_type": "display_data"
    },
    {
     "data": {
      "text/html": [
       "<pre style=\"white-space:pre;overflow-x:auto;line-height:normal;font-family:Menlo,'DejaVu Sans Mono',consolas,'Courier New',monospace\"><span style=\"font-weight: bold\"> Trainable params: </span><span style=\"color: #00af00; text-decoration-color: #00af00\">2,097,665</span> (8.00 MB)\n",
       "</pre>\n"
      ],
      "text/plain": [
       "\u001b[1m Trainable params: \u001b[0m\u001b[38;5;34m2,097,665\u001b[0m (8.00 MB)\n"
      ]
     },
     "metadata": {},
     "output_type": "display_data"
    },
    {
     "data": {
      "text/html": [
       "<pre style=\"white-space:pre;overflow-x:auto;line-height:normal;font-family:Menlo,'DejaVu Sans Mono',consolas,'Courier New',monospace\"><span style=\"font-weight: bold\"> Non-trainable params: </span><span style=\"color: #00af00; text-decoration-color: #00af00\">14,714,688</span> (56.13 MB)\n",
       "</pre>\n"
      ],
      "text/plain": [
       "\u001b[1m Non-trainable params: \u001b[0m\u001b[38;5;34m14,714,688\u001b[0m (56.13 MB)\n"
      ]
     },
     "metadata": {},
     "output_type": "display_data"
    }
   ],
   "source": [
    "# Load VGG16 without top, freeze base layers initially\n",
    "base_model = VGG16(weights='imagenet', include_top=False, input_shape=(150,150,3))\n",
    "base_model.trainable = False\n",
    "\n",
    "model_vgg = models.Sequential([\n",
    "    base_model,\n",
    "    layers.Flatten(),\n",
    "    layers.Dense(256, activation='relu'),\n",
    "    layers.Dropout(0.5),\n",
    "    layers.Dense(1, activation='sigmoid')\n",
    "])\n",
    "\n",
    "model_vgg.compile(optimizer=optimizers.Adam(learning_rate=1e-4),\n",
    "                  loss='binary_crossentropy',\n",
    "                  metrics=['accuracy'])\n",
    "\n",
    "model_vgg.summary()\n"
   ]
  },
  {
   "cell_type": "markdown",
   "id": "678b366a",
   "metadata": {},
   "source": [
    "### Train Top Layers on Frozen Base\n"
   ]
  },
  {
   "cell_type": "code",
   "execution_count": null,
   "id": "dd2ef38d",
   "metadata": {},
   "outputs": [
    {
     "name": "stdout",
     "output_type": "stream",
     "text": [
      "Epoch 1/10\n",
      "\u001b[1m125/125\u001b[0m \u001b[32m━━━━━━━━━━━━━━━━━━━━\u001b[0m\u001b[37m\u001b[0m \u001b[1m0s\u001b[0m 8s/step - accuracy: 0.6642 - loss: 0.5938"
     ]
    },
    {
     "name": "stderr",
     "output_type": "stream",
     "text": [
      "WARNING:absl:You are saving your model as an HDF5 file via `model.save()` or `keras.saving.save_model(model)`. This file format is considered legacy. We recommend using instead the native Keras format, e.g. `model.save('my_model.keras')` or `keras.saving.save_model(model, 'my_model.keras')`. \n"
     ]
    },
    {
     "name": "stdout",
     "output_type": "stream",
     "text": [
      "\u001b[1m125/125\u001b[0m \u001b[32m━━━━━━━━━━━━━━━━━━━━\u001b[0m\u001b[37m\u001b[0m \u001b[1m1310s\u001b[0m 10s/step - accuracy: 0.6649 - loss: 0.5931 - val_accuracy: 0.8660 - val_loss: 0.3173\n",
      "Epoch 2/10\n",
      "\u001b[1m 95/125\u001b[0m \u001b[32m━━━━━━━━━━━━━━━\u001b[0m\u001b[37m━━━━━\u001b[0m \u001b[1m4:02\u001b[0m 8s/step - accuracy: 0.8266 - loss: 0.3886"
     ]
    }
   ],
   "source": [
    "checkpoint_path_vgg = 'best_vgg16.h5'\n",
    "checkpoint_vgg = callbacks.ModelCheckpoint(checkpoint_path_vgg, monitor='val_accuracy', save_best_only=True)\n",
    "earlystop_vgg = callbacks.EarlyStopping(monitor='val_accuracy', patience=5, restore_best_weights=True)\n",
    "\n",
    "history_vgg = model_vgg.fit(\n",
    "    train_generator,\n",
    "    epochs=10,\n",
    "    validation_data=validation_generator,\n",
    "    callbacks=[checkpoint_vgg, earlystop_vgg])\n"
   ]
  },
  {
   "cell_type": "markdown",
   "id": "4a3037df",
   "metadata": {},
   "source": [
    "### Unfreeze Some Base Layers and Continue Fine-Tuning\n"
   ]
  },
  {
   "cell_type": "code",
   "execution_count": null,
   "id": "7add93ba",
   "metadata": {},
   "outputs": [
    {
     "name": "stdout",
     "output_type": "stream",
     "text": [
      "Epoch 1/10\n",
      "\u001b[1m125/125\u001b[0m \u001b[32m━━━━━━━━━━━━━━━━━━━━\u001b[0m\u001b[37m\u001b[0m \u001b[1m0s\u001b[0m 4s/step - accuracy: 0.8830 - loss: 0.2671"
     ]
    },
    {
     "name": "stderr",
     "output_type": "stream",
     "text": [
      "WARNING:absl:You are saving your model as an HDF5 file via `model.save()` or `keras.saving.save_model(model)`. This file format is considered legacy. We recommend using instead the native Keras format, e.g. `model.save('my_model.keras')` or `keras.saving.save_model(model, 'my_model.keras')`. \n"
     ]
    },
    {
     "name": "stdout",
     "output_type": "stream",
     "text": [
      "\u001b[1m125/125\u001b[0m \u001b[32m━━━━━━━━━━━━━━━━━━━━\u001b[0m\u001b[37m\u001b[0m \u001b[1m638s\u001b[0m 5s/step - accuracy: 0.8830 - loss: 0.2671 - val_accuracy: 0.9150 - val_loss: 0.2047\n",
      "Epoch 2/10\n",
      "\u001b[1m 25/125\u001b[0m \u001b[32m━━━━\u001b[0m\u001b[37m━━━━━━━━━━━━━━━━\u001b[0m \u001b[1m9:13\u001b[0m 6s/step - accuracy: 0.9149 - loss: 0.2089"
     ]
    }
   ],
   "source": [
    "# Unfreeze last 4 convolutional layers in VGG16\n",
    "base_model.trainable = True\n",
    "for layer in base_model.layers[:-4]:\n",
    "    layer.trainable = False\n",
    "\n",
    "model_vgg.compile(optimizer=optimizers.Adam(learning_rate=1e-5),\n",
    "                  loss='binary_crossentropy',\n",
    "                  metrics=['accuracy'])\n",
    "\n",
    "history_vgg_ft = model_vgg.fit(\n",
    "    train_generator,\n",
    "    epochs=10,\n",
    "    validation_data=validation_generator,\n",
    "    callbacks=[checkpoint_vgg, earlystop_vgg])\n"
   ]
  },
  {
   "cell_type": "markdown",
   "id": "91076e7d",
   "metadata": {},
   "source": [
    "## 6. Evaluation and Comparison of Models\n"
   ]
  },
  {
   "cell_type": "code",
   "execution_count": null,
   "id": "0268b359",
   "metadata": {},
   "outputs": [],
   "source": [
    "# Load best weights\n",
    "custom_cnn.load_weights(checkpoint_path_cnn)\n",
    "model_vgg.load_weights(checkpoint_path_vgg)\n",
    "\n",
    "# Evaluate accuracy\n",
    "loss_cnn, acc_cnn = custom_cnn.evaluate(validation_generator)\n",
    "loss_vgg, acc_vgg = model_vgg.evaluate(validation_generator)\n",
    "\n",
    "print(f\"Custom CNN Accuracy: {acc_cnn:.4f}\")\n",
    "print(f\"Fine-tuned VGG16 Accuracy: {acc_vgg:.4f}\")\n"
   ]
  },
  {
   "cell_type": "code",
   "execution_count": null,
   "id": "b2e0336d",
   "metadata": {},
   "outputs": [],
   "source": [
    "# Get predictions and true labels\n",
    "validation_generator.reset()\n",
    "y_true = validation_generator.classes\n",
    "y_pred_cnn = (custom_cnn.predict(validation_generator) > 0.5).astype(\"int32\")\n",
    "validation_generator.reset()\n",
    "y_pred_vgg = (model_vgg.predict(validation_generator) > 0.5).astype(\"int32\")\n"
   ]
  },
  {
   "cell_type": "markdown",
   "id": "7b48b387",
   "metadata": {},
   "source": [
    "### Confusion Matrix\n"
   ]
  },
  {
   "cell_type": "code",
   "execution_count": null,
   "id": "56ff2abe",
   "metadata": {},
   "outputs": [],
   "source": [
    "def plot_confusion(y_true, y_pred, title):\n",
    "    cm = confusion_matrix(y_true, y_pred)\n",
    "    plt.figure(figsize=(5,4))\n",
    "    sns.heatmap(cm, annot=True, fmt='d', cmap='Blues',\n",
    "                xticklabels=['Cat', 'Dog'], yticklabels=['Cat', 'Dog'])\n",
    "    plt.xlabel('Predicted')\n",
    "    plt.ylabel('True')\n",
    "    plt.title(title)\n",
    "    plt.show()\n",
    "\n",
    "plot_confusion(y_true, y_pred_cnn, 'Custom CNN Confusion Matrix')\n",
    "plot_confusion(y_true, y_pred_vgg, 'Fine-tuned VGG16 Confusion Matrix')\n"
   ]
  },
  {
   "cell_type": "markdown",
   "id": "15964911",
   "metadata": {},
   "source": [
    "### Classification Report (Precision, Recall, F1-score)\n"
   ]
  },
  {
   "cell_type": "code",
   "execution_count": null,
   "id": "27d1c2e4",
   "metadata": {},
   "outputs": [],
   "source": [
    "print(\"Custom CNN Classification Report\")\n",
    "print(classification_report(y_true, y_pred_cnn, target_names=['Cat', 'Dog']))\n",
    "\n",
    "print(\"Fine-tuned VGG16 Classification Report\")\n",
    "print(classification_report(y_true, y_pred_vgg, target_names=['Cat', 'Dog']))\n"
   ]
  },
  {
   "cell_type": "markdown",
   "id": "508b0ff7",
   "metadata": {},
   "source": [
    "### Precision-Recall Curve\n"
   ]
  },
  {
   "cell_type": "code",
   "execution_count": null,
   "id": "f14203df",
   "metadata": {},
   "outputs": [],
   "source": [
    "from sklearn.metrics import precision_recall_curve, average_precision_score\n",
    "\n",
    "def plot_precision_recall(y_true, y_scores, model_name):\n",
    "    precision, recall, _ = precision_recall_curve(y_true, y_scores)\n",
    "    ap = average_precision_score(y_true, y_scores)\n",
    "    plt.figure(figsize=(6,4))\n",
    "    plt.plot(recall, precision, label=f'AP={ap:.3f}')\n",
    "    plt.xlabel('Recall')\n",
    "    plt.ylabel('Precision')\n",
    "    plt.title(f'Precision-Recall Curve: {model_name}')\n",
    "    plt.legend()\n",
    "    plt.show()\n",
    "\n",
    "# Predict probabilities for better PR curve\n",
    "validation_generator.reset()\n",
    "y_scores_cnn = custom_cnn.predict(validation_generator).ravel()\n",
    "validation_generator.reset()\n",
    "y_scores_vgg = model_vgg.predict(validation_generator).ravel()\n",
    "\n",
    "plot_precision_recall(y_true, y_scores_cnn, \"Custom CNN\")\n",
    "plot_precision_recall(y_true, y_scores_vgg, \"Fine-tuned VGG16\")\n"
   ]
  },
  {
   "cell_type": "markdown",
   "id": "d2bcc48a",
   "metadata": {},
   "source": [
    "## 7. Analysis of Failure Cases\n",
    "\n",
    "Let's explore some images where the models predicted incorrectly.\n"
   ]
  },
  {
   "cell_type": "code",
   "execution_count": null,
   "id": "5db8ee4c",
   "metadata": {},
   "outputs": [],
   "source": [
    "def show_misclassified_images(generator, y_true, y_pred, title, n=5):\n",
    "    category_map = {0: 'Cat', 1: 'Dog'}\n",
    "    misclassified_idxs = np.where(y_true != y_pred)[0]\n",
    "    plt.figure(figsize=(15,3))\n",
    "    for i, idx in enumerate(misclassified_idxs[:n]):\n",
    "        img_path = generator.filepaths[idx]\n",
    "        img = plt.imread(img_path)\n",
    "        plt.subplot(1,n,i+1)\n",
    "        plt.imshow(img)\n",
    "        plt.title(f\"True: {category_map[y_true[idx]]}\\nPred: {category_map[y_pred[idx][0]]}\")\n",
    "        plt.axis('off')\n",
    "    plt.suptitle(title)\n",
    "    plt.show()\n",
    "\n",
    "show_misclassified_images(validation_generator, y_true, y_pred_cnn, \"Custom CNN Misclassifications\")\n",
    "show_misclassified_images(validation_generator, y_true, y_pred_vgg, \"Fine-tuned VGG16 Misclassifications\")\n"
   ]
  },
  {
   "cell_type": "markdown",
   "id": "c7caff72",
   "metadata": {},
   "source": [
    "\n",
    "## Final Conclusion\n",
    "\n",
    "In this lab, I built and compared two models to classify images of dogs and cats — a custom CNN designed from scratch, and a fine-tuned version of the pre-trained **VGG16** model from ImageNet.\n",
    "\n",
    "I worked with a subset of 5,000 images (2,500 cats and 2,500 dogs). Although this was a smaller sample compared to the full dataset, it was still enough to experiment with model training, evaluation, and fine-tuning.\n",
    "\n",
    "### Key Takeaways\n",
    "\n",
    "* The **fine-tuned VGG16** performed significantly better than my custom CNN in terms of accuracy, precision, recall, and F1-score. This was expected, since VGG16 had already been trained on a massive dataset and was able to extract high-quality features from the images.\n",
    "* My **custom CNN**, while simpler and faster to train, didn’t generalize as well. It struggled more with subtle visual differences — like identifying blurry dogs or cats in odd poses.\n",
    "\n",
    "### What Went Well\n",
    "\n",
    "* **Transfer learning** proved extremely useful. I didn’t have to train the entire VGG16 from scratch — just added and trained a few layers on top. This saved time and led to better performance.\n",
    "* Adding **callbacks** like `EarlyStopping` and `ModelCheckpoint` helped automatically select the best model version and avoid overfitting.\n",
    "* I evaluated both models using confusion matrices and precision-recall curves, which gave me deeper insight into how they performed beyond simple accuracy.\n",
    "\n",
    "### Where the Models Struggled\n",
    "\n",
    "Even the better model made mistakes. Most misclassifications occurred when:\n",
    "\n",
    "* The animals were in non-standard poses (e.g., curled up or lying sideways).\n",
    "* The image resolution was low or the lighting was poor.\n",
    "* The background was too busy or distracting.\n",
    "\n",
    "These are understandably tricky cases — even humans might pause before deciding.\n",
    "\n",
    "### How I Could Improve the Models\n",
    "\n",
    "* **Use more data**: Training on the full 25,000-image dataset would likely improve model generalization, especially for the custom CNN.\n",
    "* **Increase training epochs**: I limited training for speed, but adding a few more epochs could enhance performance, especially with early stopping in place.\n",
    "* **Try newer architectures**: Models like ResNet or EfficientNet might outperform VGG16 and be worth exploring in future iterations.\n",
    "* **Fine-tune more layers**: In this lab, I unfroze only a few of the VGG16 layers. Unfreezing more layers could further adapt the model to this dataset.\n",
    "\n",
    "---\n",
    "\n",
    "### Final Thoughts\n",
    "\n",
    "This lab was a valuable learning experience in **transfer learning and model evaluation**. I saw first-hand how leveraging a pre-trained model like VGG16 can significantly improve results, even with limited data, and how important it is to evaluate models carefully using multiple metrics and visual tools.\n",
    "\n",
    "There’s still room for improvement, but this provided a solid foundation for future deep learning projects.\n"
   ]
  }
 ],
 "metadata": {
  "kernelspec": {
   "display_name": "Python 3",
   "language": "python",
   "name": "python3"
  },
  "language_info": {
   "codemirror_mode": {
    "name": "ipython",
    "version": 3
   },
   "file_extension": ".py",
   "mimetype": "text/x-python",
   "name": "python",
   "nbconvert_exporter": "python",
   "pygments_lexer": "ipython3",
   "version": "3.12.6"
  }
 },
 "nbformat": 4,
 "nbformat_minor": 5
}
